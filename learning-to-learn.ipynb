{
 "cells": [
  {
   "cell_type": "markdown",
   "metadata": {
    "collapsed": true
   },
   "source": [
    "Learning-to-learn is a way to train a neural network to learn. Instead of using \"AdaDelta\", \"ADAM\", or \"RMSProp\", give the responsiblity to a neural network to find a suitable optimizer for you. "
   ]
  },
  {
   "cell_type": "code",
   "execution_count": null,
   "metadata": {
    "collapsed": true
   },
   "outputs": [],
   "source": [
    "from __future__ import absolute_import\n",
    "from __future__ import division\n",
    "from __future__ import print_function"
   ]
  },
  {
   "cell_type": "code",
   "execution_count": null,
   "metadata": {
    "collapsed": true
   },
   "outputs": [],
   "source": [
    "import os\n",
    "\n",
    "import tensorflow as tf\n",
    "\n",
    "from tensorflow.contrib.learn.python.learn import monitored_session as ms\n",
    "\n",
    "from tensorflow.contrib.learn.python.learn.datasets import mnist as mnist_dataset\n",
    "\n",
    "import meta\n",
    "import util\n",
    "\n",
    "import nn\n",
    "\n",
    "_nn_initializers = {\n",
    "    \"w\": tf.random_normal_initializer(mean=0, stddev=0.01),\n",
    "    \"b\": tf.random_normal_initializer(mean=0, stddev=0.01),\n",
    "}"
   ]
  },
  {
   "cell_type": "code",
   "execution_count": null,
   "metadata": {
    "collapsed": true
   },
   "outputs": [],
   "source": [
    "save_path = \"meta_optimizer\"\n",
    "num_epochs = 1000\n",
    "log_period = 100\n",
    "evaluation_period = 1000\n",
    "evaluation_epochs = 20\n",
    "\n",
    "problem = \"simple\"\n",
    "num_steps = 100 # Number of optimization steps per epoch\n",
    "unroll_length = 20 # Meta-optimizer unroll length\n",
    "learning_rate = 0.01\n",
    "second_derivatives = False"
   ]
  },
  {
   "cell_type": "markdown",
   "metadata": {},
   "source": [
    "### Main Learning for a simple problem of optimizing a square function"
   ]
  },
  {
   "cell_type": "code",
   "execution_count": null,
   "metadata": {
    "collapsed": false
   },
   "outputs": [],
   "source": [
    "num_unrolls = num_steps // unroll_length\n",
    "if os.path.isdir(save_path):\n",
    "    os.rmdir(save_path)\n",
    "os.makedirs(save_path)"
   ]
  },
  {
   "cell_type": "markdown",
   "metadata": {},
   "source": [
    "### Problems"
   ]
  },
  {
   "cell_type": "markdown",
   "metadata": {},
   "source": [
    "### Simple\n",
    "In this problem, we have only one parameter $x$. We are trying to minimize $x^2$."
   ]
  },
  {
   "cell_type": "code",
   "execution_count": null,
   "metadata": {
    "collapsed": true
   },
   "outputs": [],
   "source": [
    "def simple():\n",
    "  \"\"\"Simple problem: f(x) = x^2.\"\"\"\n",
    "\n",
    "  def build():\n",
    "    \"\"\"Builds loss graph.\"\"\"\n",
    "    x = tf.get_variable(\n",
    "        \"x\",\n",
    "        shape=[],\n",
    "        dtype=tf.float32,\n",
    "        initializer=tf.ones_initializer())\n",
    "    return tf.square(x, name=\"x_squared\")\n",
    "\n",
    "  return build"
   ]
  },
  {
   "cell_type": "markdown",
   "metadata": {},
   "source": [
    "### Simple-Multi-Optimizer"
   ]
  },
  {
   "cell_type": "markdown",
   "metadata": {},
   "source": [
    "In this problem, we have two parameters $x_1$ and $x_2$. We are trying to optimize $x_1^2 + x_2^2$."
   ]
  },
  {
   "cell_type": "code",
   "execution_count": null,
   "metadata": {
    "collapsed": true
   },
   "outputs": [],
   "source": [
    "def simple_multi_optimizer(num_dims=2):\n",
    "  \"\"\"Multidimensional simple problem.\"\"\"\n",
    "\n",
    "  def get_coordinate(i):\n",
    "    return tf.get_variable(\"x_{}\".format(i),\n",
    "                           shape=[],\n",
    "                           dtype=tf.float32,\n",
    "                           initializer=tf.ones_initializer())\n",
    "\n",
    "  def build():\n",
    "    coordinates = [get_coordinate(i) for i in xrange(num_dims)]\n",
    "    x = tf.concat(0, [tf.expand_dims(c, 0) for c in coordinates])\n",
    "    return tf.reduce_sum(tf.square(x, name=\"x_squared\"))\n",
    "\n",
    "  return build\n"
   ]
  },
  {
   "cell_type": "markdown",
   "metadata": {},
   "source": [
    "In this problem, we have total $128 * 10$ parameters. We are trying to minimize $\\sum_{i=1}^{128}||W_i x_i - y_i||$. Here $W_i$ is a fixed matrix of size $10 \\times 10$ and $y_i$ is a fixed column-vector of dimension $10$."
   ]
  },
  {
   "cell_type": "code",
   "execution_count": null,
   "metadata": {
    "collapsed": true
   },
   "outputs": [],
   "source": [
    "def quadratic(batch_size=128, num_dims=10, stddev=0.01, dtype=tf.float32):\n",
    "  \"\"\"Quadratic problem: f(x) = ||Wx - y||.\"\"\"\n",
    "\n",
    "  def build():\n",
    "    \"\"\"Builds loss graph.\"\"\"\n",
    "\n",
    "    # Trainable variable.\n",
    "    x = tf.get_variable(\n",
    "        \"x\",\n",
    "        shape=[batch_size, num_dims],\n",
    "        dtype=dtype,\n",
    "        initializer=tf.random_normal_initializer(stddev=stddev))\n",
    "\n",
    "    # Non-trainable variables.\n",
    "    w = tf.get_variable(\"w\",\n",
    "                        shape=[batch_size, num_dims, num_dims],\n",
    "                        dtype=dtype,\n",
    "                        initializer=tf.random_uniform_initializer(),\n",
    "                        trainable=False)\n",
    "    y = tf.get_variable(\"y\",\n",
    "                        shape=[batch_size, num_dims],\n",
    "                        dtype=dtype,\n",
    "                        initializer=tf.random_uniform_initializer(),\n",
    "                        trainable=False)\n",
    "\n",
    "    product = tf.squeeze(tf.batch_matmul(w, tf.expand_dims(x, -1)))\n",
    "    return tf.reduce_mean(tf.reduce_sum((product - y) ** 2, 1))\n",
    "\n",
    "  return build"
   ]
  },
  {
   "cell_type": "markdown",
   "metadata": {},
   "source": [
    "### mnist"
   ]
  },
  {
   "cell_type": "markdown",
   "metadata": {},
   "source": [
    "In this problem, we will train MNIST problem using \"learning-to-learn\"."
   ]
  },
  {
   "cell_type": "code",
   "execution_count": null,
   "metadata": {
    "collapsed": true
   },
   "outputs": [],
   "source": [
    "def _xent_loss(output, labels):\n",
    "    loss = tf.nn.sparse_softmax_cross_entropy_with_logits(output, labels)\n",
    "    return tf.reduce_mean(loss)\n",
    "\n",
    "def mnist(layers,  # pylint: disable=invalid-name\n",
    "          activation=\"sigmoid\",\n",
    "          batch_size=128,\n",
    "          mode=\"train\"):\n",
    "    \"\"\"Mnist classification with a multi-layer perceptron.\"\"\"\n",
    "\n",
    "    if activation == \"sigmoid\":\n",
    "        activation_op = tf.sigmoid\n",
    "    elif activation == \"relu\":\n",
    "        activation_op = tf.nn.relu\n",
    "    else:\n",
    "        raise ValueError(\"{} activation not supported\".format(activation))\n",
    "\n",
    "    # Data.\n",
    "    data = mnist_dataset.load_mnist()\n",
    "    data = getattr(data, mode)\n",
    "    images = tf.constant(data.images, dtype=tf.float32, name=\"MNIST_images\")\n",
    "    images = tf.reshape(images, [-1, 28, 28, 1])\n",
    "    labels = tf.constant(data.labels, dtype=tf.int64, name=\"MNIST_labels\")\n",
    "\n",
    "    # Network.\n",
    "    mlp = nn.MLP(list(layers) + [10],\n",
    "               activation=activation_op,\n",
    "               initializers=_nn_initializers)\n",
    "    network = nn.Sequential([nn.BatchFlatten(), mlp])\n",
    "\n",
    "    def build():\n",
    "        indices = tf.random_uniform([batch_size], 0, data.num_examples, tf.int64)\n",
    "        batch_images = tf.gather(images, indices)\n",
    "        batch_labels = tf.gather(labels, indices)\n",
    "        output = network(batch_images)\n",
    "        return _xent_loss(output, batch_labels)\n",
    "\n",
    "    return build"
   ]
  },
  {
   "cell_type": "markdown",
   "metadata": {},
   "source": [
    "To train an optimizer, we essentially need three things\n",
    "1. We should be able to give loss function.\n",
    "2. We should have a LSTM network as meta-optimizer.\n",
    "3. We should be able to tell our optimizer, what kind of network that we want for each variables. "
   ]
  },
  {
   "cell_type": "markdown",
   "metadata": {},
   "source": [
    "### An important observation\n",
    "\n",
    "When I was training a simple_mulit_optimizer, the adam optimizer was not able to optimize its parameter, while the CW-DEEP-LSTM was able to minimize it. In particular, both parameters should be zero after optimization but the parameter that was optimized using adam was saturating around 0.005 and was not going below that. When I changed the update rule to CW-DEEP-LSTM, both the parameters went close to zero.  "
   ]
  },
  {
   "cell_type": "markdown",
   "metadata": {},
   "source": [
    "## Problems"
   ]
  },
  {
   "cell_type": "markdown",
   "metadata": {},
   "source": [
    "### Simple"
   ]
  },
  {
   "cell_type": "code",
   "execution_count": null,
   "metadata": {
    "collapsed": true
   },
   "outputs": [],
   "source": [
    "problem_simple = simple()  # return a function \"build\" that gives square-loss when called \n",
    "net_config_simple = {\"cw\": {\n",
    "        \"net\": \"CoordinateWiseDeepLSTM\",\n",
    "        \"net_options\": {\"layers\": (), \"initializer\": \"zeros\"},\n",
    "        \"net_path\": None\n",
    "    }}\n",
    "net_assignments_simple = None"
   ]
  },
  {
   "cell_type": "markdown",
   "metadata": {},
   "source": [
    "### simple-multi-dimensional"
   ]
  },
  {
   "cell_type": "code",
   "execution_count": null,
   "metadata": {
    "collapsed": false
   },
   "outputs": [],
   "source": [
    "problem_simple_multi_optimizer = simple_multi_optimizer()\n",
    "net_config_simple_multi_optimizer = {\n",
    "    \"cw\": {\n",
    "        \"net\": \"CoordinateWiseDeepLSTM\",\n",
    "        \"net_options\": {\"layers\": (), \"initializer\": \"zeros\"},\n",
    "        \"net_path\": None\n",
    "    },\n",
    "    \"adam\": {\n",
    "        \"net\": \"Adam\",\n",
    "        \"net_options\": {\"learning_rate\": 0.1}\n",
    "    }\n",
    "}\n",
    "net_assignments_simple_multi_optimizer = [(\"cw\", [\"x_0\", \"x_1\"])]"
   ]
  },
  {
   "cell_type": "markdown",
   "metadata": {},
   "source": [
    "### quadratic"
   ]
  },
  {
   "cell_type": "code",
   "execution_count": null,
   "metadata": {
    "collapsed": false
   },
   "outputs": [],
   "source": [
    "problem_quadratic = quadratic(batch_size=2, num_dims=10)\n",
    "net_config_quadratic = {\"cw\": {\n",
    "    \"net\": \"CoordinateWiseDeepLSTM\",\n",
    "    \"net_options\": {\"layers\": (20, 20)},\n",
    "    \"net_path\": None\n",
    "}}\n",
    "net_assignments_quadratic = None"
   ]
  },
  {
   "cell_type": "markdown",
   "metadata": {},
   "source": [
    "### mnist"
   ]
  },
  {
   "cell_type": "code",
   "execution_count": null,
   "metadata": {
    "collapsed": false
   },
   "outputs": [],
   "source": [
    "problem_mnist = mnist(layers=(5,), mode=\"train\")\n",
    "net_config_mnist = {\"cw\": {\n",
    "                    \"net\": \"CoordinateWiseDeepLSTM\",\n",
    "                    \"net_options\": {\n",
    "                          \"layers\": (20, ),\n",
    "                          \"preprocess_name\": \"LogAndSign\",\n",
    "                          \"preprocess_options\": {\"k\": 5},\n",
    "                          \"scale\": 0.01,\n",
    "                                    },\n",
    "                    \"net_path\": None\n",
    "                    }\n",
    "              }\n",
    "\n",
    "net_assignments_mnist = None"
   ]
  },
  {
   "cell_type": "code",
   "execution_count": null,
   "metadata": {
    "collapsed": false
   },
   "outputs": [],
   "source": [
    "# Optimizer setup.\n",
    "optimizer = meta.MetaOptimizer(**net_config_mnist)"
   ]
  },
  {
   "cell_type": "code",
   "execution_count": null,
   "metadata": {
    "collapsed": false
   },
   "outputs": [],
   "source": [
    "minimize = optimizer.meta_minimize(\n",
    "      problem_mnist, unroll_length,\n",
    "      learning_rate=learning_rate,\n",
    "      net_assignments=net_assignments_mnist)"
   ]
  },
  {
   "cell_type": "code",
   "execution_count": null,
   "metadata": {
    "collapsed": true
   },
   "outputs": [],
   "source": [
    "step, update, reset, cost_op, _ = minimize"
   ]
  },
  {
   "cell_type": "code",
   "execution_count": null,
   "metadata": {
    "collapsed": true
   },
   "outputs": [],
   "source": [
    "sess = ms.MonitoredSession()"
   ]
  },
  {
   "cell_type": "code",
   "execution_count": null,
   "metadata": {
    "collapsed": true
   },
   "outputs": [],
   "source": [
    "tf.get_default_graph().finalize()"
   ]
  },
  {
   "cell_type": "code",
   "execution_count": null,
   "metadata": {
    "collapsed": true
   },
   "outputs": [],
   "source": [
    "best_evaluation = float(\"inf\")\n",
    "total_time = 0\n",
    "total_cost = 0"
   ]
  },
  {
   "cell_type": "code",
   "execution_count": null,
   "metadata": {
    "collapsed": false
   },
   "outputs": [],
   "source": [
    "for e in xrange(num_epochs):\n",
    "    # Training.\n",
    "    time, cost = util.run_epoch(sess, cost_op, [update, step], reset,\n",
    "                              num_unrolls)\n",
    "    total_time += time\n",
    "    total_cost += cost\n",
    "\n",
    "    # Logging.\n",
    "    if (e + 1) % log_period == 0:\n",
    "        util.print_stats(\"Epoch {}\".format(e + 1), total_cost, total_time,\n",
    "                         log_period)\n",
    "        total_time = 0\n",
    "        total_cost = 0\n"
   ]
  },
  {
   "cell_type": "markdown",
   "metadata": {},
   "source": [
    "### Sequential Data"
   ]
  },
  {
   "cell_type": "code",
   "execution_count": 1,
   "metadata": {
    "collapsed": true
   },
   "outputs": [],
   "source": [
    "from basic_rnn_using_tensorflow_api import BasicRNN\n",
    "from sequential_data import SequentialData\n",
    "import numpy as np\n",
    "import tensorflow as tf"
   ]
  },
  {
   "cell_type": "code",
   "execution_count": 2,
   "metadata": {
    "collapsed": true
   },
   "outputs": [],
   "source": [
    "num_epochs = 1\n",
    "data_size = 1000000\n",
    "batch_size = 200\n",
    "num_steps = 10\n",
    "num_classes = 2\n",
    "learning_rate = 0.001\n",
    "state_size = 5"
   ]
  },
  {
   "cell_type": "code",
   "execution_count": 3,
   "metadata": {
    "collapsed": true
   },
   "outputs": [],
   "source": [
    "data = SequentialData(data_size=data_size, batch_size=batch_size,\n",
    "                      num_steps=num_steps, num_classes=num_classes)"
   ]
  },
  {
   "cell_type": "code",
   "execution_count": 4,
   "metadata": {
    "collapsed": false
   },
   "outputs": [],
   "source": [
    "t = list(data.gen_epoch(num_epochs).next())"
   ]
  },
  {
   "cell_type": "code",
   "execution_count": 5,
   "metadata": {
    "collapsed": false
   },
   "outputs": [],
   "source": [
    "basic_rnn = BasicRNN(state_size=state_size, num_steps=num_steps, num_classes=num_classes,\n",
    "                    learning_rate=learning_rate)"
   ]
  },
  {
   "cell_type": "code",
   "execution_count": 6,
   "metadata": {
    "collapsed": false
   },
   "outputs": [],
   "source": [
    "i, o = t[0]"
   ]
  },
  {
   "cell_type": "code",
   "execution_count": 7,
   "metadata": {
    "collapsed": false
   },
   "outputs": [],
   "source": [
    "init_state = np.zeros((batch_size, state_size))"
   ]
  },
  {
   "cell_type": "code",
   "execution_count": 8,
   "metadata": {
    "collapsed": false
   },
   "outputs": [],
   "source": [
    "feed = {basic_rnn.input: i, basic_rnn.target: o, basic_rnn.init_state: init_state}"
   ]
  },
  {
   "cell_type": "code",
   "execution_count": 9,
   "metadata": {
    "collapsed": false
   },
   "outputs": [],
   "source": [
    "sess = tf.Session()"
   ]
  },
  {
   "cell_type": "code",
   "execution_count": 44,
   "metadata": {
    "collapsed": true
   },
   "outputs": [],
   "source": [
    "basic_rnn.input = i\n",
    "basic_rnn.target = o\n",
    "basic_rnn.init_state = init_state"
   ]
  },
  {
   "cell_type": "code",
   "execution_count": 10,
   "metadata": {
    "collapsed": false
   },
   "outputs": [],
   "source": [
    "sess.run(tf.global_variables_initializer())"
   ]
  },
  {
   "cell_type": "code",
   "execution_count": 11,
   "metadata": {
    "collapsed": true
   },
   "outputs": [],
   "source": [
    "variables = tf.get_collection(\"variables\")"
   ]
  },
  {
   "cell_type": "code",
   "execution_count": 12,
   "metadata": {
    "collapsed": false
   },
   "outputs": [
    {
     "data": {
      "text/plain": [
       "[u'rnn/W:0',\n",
       " u'rnn/b:0',\n",
       " u'softmax/W_softmax:0',\n",
       " u'softmax/b_softmax:0',\n",
       " u'RNN/BasicRNNCell/Linear/Matrix:0',\n",
       " u'RNN/BasicRNNCell/Linear/Bias:0',\n",
       " u'optimization/beta1_power:0',\n",
       " u'optimization/beta2_power:0',\n",
       " u'optimization/softmax/W_softmax/Adam:0',\n",
       " u'optimization/softmax/W_softmax/Adam_1:0',\n",
       " u'optimization/softmax/b_softmax/Adam:0',\n",
       " u'optimization/softmax/b_softmax/Adam_1:0',\n",
       " u'optimization/RNN/BasicRNNCell/Linear/Matrix/Adam:0',\n",
       " u'optimization/RNN/BasicRNNCell/Linear/Matrix/Adam_1:0',\n",
       " u'optimization/RNN/BasicRNNCell/Linear/Bias/Adam:0',\n",
       " u'optimization/RNN/BasicRNNCell/Linear/Bias/Adam_1:0']"
      ]
     },
     "execution_count": 12,
     "metadata": {},
     "output_type": "execute_result"
    }
   ],
   "source": [
    "[_.name for _ in tf.get_collection(\"variables\")]"
   ]
  },
  {
   "cell_type": "code",
   "execution_count": 42,
   "metadata": {
    "collapsed": false
   },
   "outputs": [
    {
     "data": {
      "text/plain": [
       "array([[-0.63520825, -0.28813177,  0.07283157, -0.13720179,  0.4340862 ],\n",
       "       [ 0.54079354, -0.51890314,  0.43846619, -0.30666414,  0.62554479],\n",
       "       [ 0.22436571, -0.05976206,  0.35196531,  0.05456895, -0.55082071],\n",
       "       [ 0.21429145,  0.04938388,  0.07652867,  0.26680684,  0.10104239],\n",
       "       [-0.42012298,  0.02139503,  0.5290997 ,  0.31906343, -0.42870903],\n",
       "       [-0.63955635, -0.27138782,  0.42434478, -0.2647545 , -0.19300362],\n",
       "       [ 0.24836046, -0.14170069, -0.28564963, -0.46438271, -0.13674998]], dtype=float32)"
      ]
     },
     "execution_count": 42,
     "metadata": {},
     "output_type": "execute_result"
    }
   ],
   "source": [
    "sess.run(variables[0])"
   ]
  },
  {
   "cell_type": "code",
   "execution_count": 46,
   "metadata": {
    "collapsed": false
   },
   "outputs": [
    {
     "ename": "InvalidArgumentError",
     "evalue": "You must feed a value for placeholder tensor 'input' with dtype int32\n\t [[Node: input = Placeholder[dtype=DT_INT32, shape=[], _device=\"/job:localhost/replica:0/task:0/cpu:0\"]()]]\n\nCaused by op u'input', defined at:\n  File \"/home/drl/anaconda2/envs/keras/lib/python2.7/runpy.py\", line 174, in _run_module_as_main\n    \"__main__\", fname, loader, pkg_name)\n  File \"/home/drl/anaconda2/envs/keras/lib/python2.7/runpy.py\", line 72, in _run_code\n    exec code in run_globals\n  File \"/home/drl/anaconda2/envs/keras/lib/python2.7/site-packages/ipykernel/__main__.py\", line 3, in <module>\n    app.launch_new_instance()\n  File \"/home/drl/anaconda2/envs/keras/lib/python2.7/site-packages/traitlets/config/application.py\", line 596, in launch_instance\n    app.start()\n  File \"/home/drl/anaconda2/envs/keras/lib/python2.7/site-packages/ipykernel/kernelapp.py\", line 474, in start\n    ioloop.IOLoop.instance().start()\n  File \"/home/drl/anaconda2/envs/keras/lib/python2.7/site-packages/zmq/eventloop/ioloop.py\", line 162, in start\n    super(ZMQIOLoop, self).start()\n  File \"/home/drl/anaconda2/envs/keras/lib/python2.7/site-packages/tornado/ioloop.py\", line 887, in start\n    handler_func(fd_obj, events)\n  File \"/home/drl/anaconda2/envs/keras/lib/python2.7/site-packages/tornado/stack_context.py\", line 275, in null_wrapper\n    return fn(*args, **kwargs)\n  File \"/home/drl/anaconda2/envs/keras/lib/python2.7/site-packages/zmq/eventloop/zmqstream.py\", line 440, in _handle_events\n    self._handle_recv()\n  File \"/home/drl/anaconda2/envs/keras/lib/python2.7/site-packages/zmq/eventloop/zmqstream.py\", line 472, in _handle_recv\n    self._run_callback(callback, msg)\n  File \"/home/drl/anaconda2/envs/keras/lib/python2.7/site-packages/zmq/eventloop/zmqstream.py\", line 414, in _run_callback\n    callback(*args, **kwargs)\n  File \"/home/drl/anaconda2/envs/keras/lib/python2.7/site-packages/tornado/stack_context.py\", line 275, in null_wrapper\n    return fn(*args, **kwargs)\n  File \"/home/drl/anaconda2/envs/keras/lib/python2.7/site-packages/ipykernel/kernelbase.py\", line 276, in dispatcher\n    return self.dispatch_shell(stream, msg)\n  File \"/home/drl/anaconda2/envs/keras/lib/python2.7/site-packages/ipykernel/kernelbase.py\", line 228, in dispatch_shell\n    handler(stream, idents, msg)\n  File \"/home/drl/anaconda2/envs/keras/lib/python2.7/site-packages/ipykernel/kernelbase.py\", line 390, in execute_request\n    user_expressions, allow_stdin)\n  File \"/home/drl/anaconda2/envs/keras/lib/python2.7/site-packages/ipykernel/ipkernel.py\", line 196, in do_execute\n    res = shell.run_cell(code, store_history=store_history, silent=silent)\n  File \"/home/drl/anaconda2/envs/keras/lib/python2.7/site-packages/ipykernel/zmqshell.py\", line 498, in run_cell\n    return super(ZMQInteractiveShell, self).run_cell(*args, **kwargs)\n  File \"/home/drl/anaconda2/envs/keras/lib/python2.7/site-packages/IPython/core/interactiveshell.py\", line 2717, in run_cell\n    interactivity=interactivity, compiler=compiler, result=result)\n  File \"/home/drl/anaconda2/envs/keras/lib/python2.7/site-packages/IPython/core/interactiveshell.py\", line 2821, in run_ast_nodes\n    if self.run_code(code, result):\n  File \"/home/drl/anaconda2/envs/keras/lib/python2.7/site-packages/IPython/core/interactiveshell.py\", line 2881, in run_code\n    exec(code_obj, self.user_global_ns, self.user_ns)\n  File \"<ipython-input-5-78b5d3ae6555>\", line 2, in <module>\n    learning_rate=learning_rate)\n  File \"basic_rnn_using_tensorflow_api.py\", line 25, in __init__\n    self.create_graph()\n  File \"basic_rnn_using_tensorflow_api.py\", line 108, in create_graph\n    self.create_placeholders()\n  File \"basic_rnn_using_tensorflow_api.py\", line 37, in create_placeholders\n    self.input = tf.placeholder(tf.int32, shape=(None, self.num_steps), name=\"input\")\n  File \"/home/drl/anaconda2/envs/keras/lib/python2.7/site-packages/tensorflow/python/ops/array_ops.py\", line 1512, in placeholder\n    name=name)\n  File \"/home/drl/anaconda2/envs/keras/lib/python2.7/site-packages/tensorflow/python/ops/gen_array_ops.py\", line 2043, in _placeholder\n    name=name)\n  File \"/home/drl/anaconda2/envs/keras/lib/python2.7/site-packages/tensorflow/python/framework/op_def_library.py\", line 759, in apply_op\n    op_def=op_def)\n  File \"/home/drl/anaconda2/envs/keras/lib/python2.7/site-packages/tensorflow/python/framework/ops.py\", line 2240, in create_op\n    original_op=self._default_original_op, op_def=op_def)\n  File \"/home/drl/anaconda2/envs/keras/lib/python2.7/site-packages/tensorflow/python/framework/ops.py\", line 1128, in __init__\n    self._traceback = _extract_stack()\n\nInvalidArgumentError (see above for traceback): You must feed a value for placeholder tensor 'input' with dtype int32\n\t [[Node: input = Placeholder[dtype=DT_INT32, shape=[], _device=\"/job:localhost/replica:0/task:0/cpu:0\"]()]]\n",
     "output_type": "error",
     "traceback": [
      "\u001b[0;31m---------------------------------------------------------------------------\u001b[0m",
      "\u001b[0;31mInvalidArgumentError\u001b[0m                      Traceback (most recent call last)",
      "\u001b[0;32m<ipython-input-46-eba51d4f3bdd>\u001b[0m in \u001b[0;36m<module>\u001b[0;34m()\u001b[0m\n\u001b[0;32m----> 1\u001b[0;31m \u001b[0ma\u001b[0m\u001b[0;34m,\u001b[0m \u001b[0mb\u001b[0m \u001b[0;34m=\u001b[0m \u001b[0msess\u001b[0m\u001b[0;34m.\u001b[0m\u001b[0mrun\u001b[0m\u001b[0;34m(\u001b[0m\u001b[0;34m[\u001b[0m\u001b[0mbasic_rnn\u001b[0m\u001b[0;34m.\u001b[0m\u001b[0mloss\u001b[0m\u001b[0;34m,\u001b[0m \u001b[0mbasic_rnn\u001b[0m\u001b[0;34m.\u001b[0m\u001b[0mfinal_state\u001b[0m\u001b[0;34m]\u001b[0m\u001b[0;34m)\u001b[0m\u001b[0;34m\u001b[0m\u001b[0m\n\u001b[0m",
      "\u001b[0;32m/home/drl/anaconda2/envs/keras/lib/python2.7/site-packages/tensorflow/python/client/session.pyc\u001b[0m in \u001b[0;36mrun\u001b[0;34m(self, fetches, feed_dict, options, run_metadata)\u001b[0m\n\u001b[1;32m    764\u001b[0m     \u001b[0;32mtry\u001b[0m\u001b[0;34m:\u001b[0m\u001b[0;34m\u001b[0m\u001b[0m\n\u001b[1;32m    765\u001b[0m       result = self._run(None, fetches, feed_dict, options_ptr,\n\u001b[0;32m--> 766\u001b[0;31m                          run_metadata_ptr)\n\u001b[0m\u001b[1;32m    767\u001b[0m       \u001b[0;32mif\u001b[0m \u001b[0mrun_metadata\u001b[0m\u001b[0;34m:\u001b[0m\u001b[0;34m\u001b[0m\u001b[0m\n\u001b[1;32m    768\u001b[0m         \u001b[0mproto_data\u001b[0m \u001b[0;34m=\u001b[0m \u001b[0mtf_session\u001b[0m\u001b[0;34m.\u001b[0m\u001b[0mTF_GetBuffer\u001b[0m\u001b[0;34m(\u001b[0m\u001b[0mrun_metadata_ptr\u001b[0m\u001b[0;34m)\u001b[0m\u001b[0;34m\u001b[0m\u001b[0m\n",
      "\u001b[0;32m/home/drl/anaconda2/envs/keras/lib/python2.7/site-packages/tensorflow/python/client/session.pyc\u001b[0m in \u001b[0;36m_run\u001b[0;34m(self, handle, fetches, feed_dict, options, run_metadata)\u001b[0m\n\u001b[1;32m    962\u001b[0m     \u001b[0;32mif\u001b[0m \u001b[0mfinal_fetches\u001b[0m \u001b[0;32mor\u001b[0m \u001b[0mfinal_targets\u001b[0m\u001b[0;34m:\u001b[0m\u001b[0;34m\u001b[0m\u001b[0m\n\u001b[1;32m    963\u001b[0m       results = self._do_run(handle, final_targets, final_fetches,\n\u001b[0;32m--> 964\u001b[0;31m                              feed_dict_string, options, run_metadata)\n\u001b[0m\u001b[1;32m    965\u001b[0m     \u001b[0;32melse\u001b[0m\u001b[0;34m:\u001b[0m\u001b[0;34m\u001b[0m\u001b[0m\n\u001b[1;32m    966\u001b[0m       \u001b[0mresults\u001b[0m \u001b[0;34m=\u001b[0m \u001b[0;34m[\u001b[0m\u001b[0;34m]\u001b[0m\u001b[0;34m\u001b[0m\u001b[0m\n",
      "\u001b[0;32m/home/drl/anaconda2/envs/keras/lib/python2.7/site-packages/tensorflow/python/client/session.pyc\u001b[0m in \u001b[0;36m_do_run\u001b[0;34m(self, handle, target_list, fetch_list, feed_dict, options, run_metadata)\u001b[0m\n\u001b[1;32m   1012\u001b[0m     \u001b[0;32mif\u001b[0m \u001b[0mhandle\u001b[0m \u001b[0;32mis\u001b[0m \u001b[0mNone\u001b[0m\u001b[0;34m:\u001b[0m\u001b[0;34m\u001b[0m\u001b[0m\n\u001b[1;32m   1013\u001b[0m       return self._do_call(_run_fn, self._session, feed_dict, fetch_list,\n\u001b[0;32m-> 1014\u001b[0;31m                            target_list, options, run_metadata)\n\u001b[0m\u001b[1;32m   1015\u001b[0m     \u001b[0;32melse\u001b[0m\u001b[0;34m:\u001b[0m\u001b[0;34m\u001b[0m\u001b[0m\n\u001b[1;32m   1016\u001b[0m       return self._do_call(_prun_fn, self._session, handle, feed_dict,\n",
      "\u001b[0;32m/home/drl/anaconda2/envs/keras/lib/python2.7/site-packages/tensorflow/python/client/session.pyc\u001b[0m in \u001b[0;36m_do_call\u001b[0;34m(self, fn, *args)\u001b[0m\n\u001b[1;32m   1032\u001b[0m         \u001b[0;32mexcept\u001b[0m \u001b[0mKeyError\u001b[0m\u001b[0;34m:\u001b[0m\u001b[0;34m\u001b[0m\u001b[0m\n\u001b[1;32m   1033\u001b[0m           \u001b[0;32mpass\u001b[0m\u001b[0;34m\u001b[0m\u001b[0m\n\u001b[0;32m-> 1034\u001b[0;31m       \u001b[0;32mraise\u001b[0m \u001b[0mtype\u001b[0m\u001b[0;34m(\u001b[0m\u001b[0me\u001b[0m\u001b[0;34m)\u001b[0m\u001b[0;34m(\u001b[0m\u001b[0mnode_def\u001b[0m\u001b[0;34m,\u001b[0m \u001b[0mop\u001b[0m\u001b[0;34m,\u001b[0m \u001b[0mmessage\u001b[0m\u001b[0;34m)\u001b[0m\u001b[0;34m\u001b[0m\u001b[0m\n\u001b[0m\u001b[1;32m   1035\u001b[0m \u001b[0;34m\u001b[0m\u001b[0m\n\u001b[1;32m   1036\u001b[0m   \u001b[0;32mdef\u001b[0m \u001b[0m_extend_graph\u001b[0m\u001b[0;34m(\u001b[0m\u001b[0mself\u001b[0m\u001b[0;34m)\u001b[0m\u001b[0;34m:\u001b[0m\u001b[0;34m\u001b[0m\u001b[0m\n",
      "\u001b[0;31mInvalidArgumentError\u001b[0m: You must feed a value for placeholder tensor 'input' with dtype int32\n\t [[Node: input = Placeholder[dtype=DT_INT32, shape=[], _device=\"/job:localhost/replica:0/task:0/cpu:0\"]()]]\n\nCaused by op u'input', defined at:\n  File \"/home/drl/anaconda2/envs/keras/lib/python2.7/runpy.py\", line 174, in _run_module_as_main\n    \"__main__\", fname, loader, pkg_name)\n  File \"/home/drl/anaconda2/envs/keras/lib/python2.7/runpy.py\", line 72, in _run_code\n    exec code in run_globals\n  File \"/home/drl/anaconda2/envs/keras/lib/python2.7/site-packages/ipykernel/__main__.py\", line 3, in <module>\n    app.launch_new_instance()\n  File \"/home/drl/anaconda2/envs/keras/lib/python2.7/site-packages/traitlets/config/application.py\", line 596, in launch_instance\n    app.start()\n  File \"/home/drl/anaconda2/envs/keras/lib/python2.7/site-packages/ipykernel/kernelapp.py\", line 474, in start\n    ioloop.IOLoop.instance().start()\n  File \"/home/drl/anaconda2/envs/keras/lib/python2.7/site-packages/zmq/eventloop/ioloop.py\", line 162, in start\n    super(ZMQIOLoop, self).start()\n  File \"/home/drl/anaconda2/envs/keras/lib/python2.7/site-packages/tornado/ioloop.py\", line 887, in start\n    handler_func(fd_obj, events)\n  File \"/home/drl/anaconda2/envs/keras/lib/python2.7/site-packages/tornado/stack_context.py\", line 275, in null_wrapper\n    return fn(*args, **kwargs)\n  File \"/home/drl/anaconda2/envs/keras/lib/python2.7/site-packages/zmq/eventloop/zmqstream.py\", line 440, in _handle_events\n    self._handle_recv()\n  File \"/home/drl/anaconda2/envs/keras/lib/python2.7/site-packages/zmq/eventloop/zmqstream.py\", line 472, in _handle_recv\n    self._run_callback(callback, msg)\n  File \"/home/drl/anaconda2/envs/keras/lib/python2.7/site-packages/zmq/eventloop/zmqstream.py\", line 414, in _run_callback\n    callback(*args, **kwargs)\n  File \"/home/drl/anaconda2/envs/keras/lib/python2.7/site-packages/tornado/stack_context.py\", line 275, in null_wrapper\n    return fn(*args, **kwargs)\n  File \"/home/drl/anaconda2/envs/keras/lib/python2.7/site-packages/ipykernel/kernelbase.py\", line 276, in dispatcher\n    return self.dispatch_shell(stream, msg)\n  File \"/home/drl/anaconda2/envs/keras/lib/python2.7/site-packages/ipykernel/kernelbase.py\", line 228, in dispatch_shell\n    handler(stream, idents, msg)\n  File \"/home/drl/anaconda2/envs/keras/lib/python2.7/site-packages/ipykernel/kernelbase.py\", line 390, in execute_request\n    user_expressions, allow_stdin)\n  File \"/home/drl/anaconda2/envs/keras/lib/python2.7/site-packages/ipykernel/ipkernel.py\", line 196, in do_execute\n    res = shell.run_cell(code, store_history=store_history, silent=silent)\n  File \"/home/drl/anaconda2/envs/keras/lib/python2.7/site-packages/ipykernel/zmqshell.py\", line 498, in run_cell\n    return super(ZMQInteractiveShell, self).run_cell(*args, **kwargs)\n  File \"/home/drl/anaconda2/envs/keras/lib/python2.7/site-packages/IPython/core/interactiveshell.py\", line 2717, in run_cell\n    interactivity=interactivity, compiler=compiler, result=result)\n  File \"/home/drl/anaconda2/envs/keras/lib/python2.7/site-packages/IPython/core/interactiveshell.py\", line 2821, in run_ast_nodes\n    if self.run_code(code, result):\n  File \"/home/drl/anaconda2/envs/keras/lib/python2.7/site-packages/IPython/core/interactiveshell.py\", line 2881, in run_code\n    exec(code_obj, self.user_global_ns, self.user_ns)\n  File \"<ipython-input-5-78b5d3ae6555>\", line 2, in <module>\n    learning_rate=learning_rate)\n  File \"basic_rnn_using_tensorflow_api.py\", line 25, in __init__\n    self.create_graph()\n  File \"basic_rnn_using_tensorflow_api.py\", line 108, in create_graph\n    self.create_placeholders()\n  File \"basic_rnn_using_tensorflow_api.py\", line 37, in create_placeholders\n    self.input = tf.placeholder(tf.int32, shape=(None, self.num_steps), name=\"input\")\n  File \"/home/drl/anaconda2/envs/keras/lib/python2.7/site-packages/tensorflow/python/ops/array_ops.py\", line 1512, in placeholder\n    name=name)\n  File \"/home/drl/anaconda2/envs/keras/lib/python2.7/site-packages/tensorflow/python/ops/gen_array_ops.py\", line 2043, in _placeholder\n    name=name)\n  File \"/home/drl/anaconda2/envs/keras/lib/python2.7/site-packages/tensorflow/python/framework/op_def_library.py\", line 759, in apply_op\n    op_def=op_def)\n  File \"/home/drl/anaconda2/envs/keras/lib/python2.7/site-packages/tensorflow/python/framework/ops.py\", line 2240, in create_op\n    original_op=self._default_original_op, op_def=op_def)\n  File \"/home/drl/anaconda2/envs/keras/lib/python2.7/site-packages/tensorflow/python/framework/ops.py\", line 1128, in __init__\n    self._traceback = _extract_stack()\n\nInvalidArgumentError (see above for traceback): You must feed a value for placeholder tensor 'input' with dtype int32\n\t [[Node: input = Placeholder[dtype=DT_INT32, shape=[], _device=\"/job:localhost/replica:0/task:0/cpu:0\"]()]]\n"
     ]
    }
   ],
   "source": [
    "a, b = sess.run([basic_rnn.loss, basic_rnn.final_state])"
   ]
  },
  {
   "cell_type": "code",
   "execution_count": 31,
   "metadata": {
    "collapsed": true
   },
   "outputs": [],
   "source": [
    "i = 1"
   ]
  },
  {
   "cell_type": "code",
   "execution_count": 32,
   "metadata": {
    "collapsed": false
   },
   "outputs": [],
   "source": [
    "def x():\n",
    "    def y():\n",
    "        global i\n",
    "        print i\n",
    "        i += 1\n",
    "    return y"
   ]
  },
  {
   "cell_type": "code",
   "execution_count": 33,
   "metadata": {
    "collapsed": true
   },
   "outputs": [],
   "source": [
    "a = x()"
   ]
  },
  {
   "cell_type": "code",
   "execution_count": 40,
   "metadata": {
    "collapsed": false
   },
   "outputs": [
    {
     "name": "stdout",
     "output_type": "stream",
     "text": [
      "7\n"
     ]
    }
   ],
   "source": [
    "a()"
   ]
  },
  {
   "cell_type": "code",
   "execution_count": 18,
   "metadata": {
    "collapsed": true
   },
   "outputs": [],
   "source": [
    "basic_rnn."
   ]
  },
  {
   "cell_type": "code",
   "execution_count": null,
   "metadata": {
    "collapsed": true
   },
   "outputs": [],
   "source": [
    "num_epochs = 1\n",
    "data_size = 1000000\n",
    "batch_size = 200\n",
    "num_steps = 10\n",
    "num_classes = 2\n",
    "state_size = 5\n",
    "learning_rate = 0.001\n",
    "index = 0\n",
    "initial_state = np.zeros((batch_size, state_size))\n",
    "def sequence(batch_size=128):\n",
    "    \"\"\"Sequence classification with RNN.\"\"\"\n",
    "    # Data.\n",
    "\n",
    "    data = SequentialData(data_size=data_size, batch_size=batch_size,\n",
    "                      num_steps=num_steps, num_classes=num_classes)\n",
    "    data = list(data.gen_epoch(num_epochs).next())\n",
    "    # Network\n",
    "    network = BasicRNN(state_size=state_size, num_steps=num_steps, num_classes=num_classes,\n",
    "                    learning_rate=learning_rate)\n",
    "\n",
    "    def build(): \n",
    "        global index, initial_state\n",
    "        input_, target = data[index]\n",
    "        output = network(batch_images)\n",
    "        return _xent_loss(output, batch_labels)\n",
    "    \n",
    "\n",
    "    return build"
   ]
  },
  {
   "cell_type": "code",
   "execution_count": null,
   "metadata": {
    "collapsed": false
   },
   "outputs": [],
   "source": [
    "[var.name for var in tf.get_collection(\"variables\")]"
   ]
  },
  {
   "cell_type": "code",
   "execution_count": null,
   "metadata": {
    "collapsed": false
   },
   "outputs": [],
   "source": [
    "sess.run(tf.get_collection(\"variables\", scope=\"vars_optimizer\")[0]).shape"
   ]
  },
  {
   "cell_type": "code",
   "execution_count": null,
   "metadata": {
    "collapsed": false
   },
   "outputs": [],
   "source": [
    "for var in tf.get_collection(\"variables\", scope=\"states\"):\n",
    "    print(var.name)"
   ]
  },
  {
   "cell_type": "code",
   "execution_count": null,
   "metadata": {
    "collapsed": false
   },
   "outputs": [],
   "source": [
    "784 * 5 + 5 +  5 * 10 + 10"
   ]
  },
  {
   "cell_type": "code",
   "execution_count": null,
   "metadata": {
    "collapsed": false
   },
   "outputs": [],
   "source": [
    "w1, b1, w2, b2 = sess.run(tf.get_collection(\"variables\")[0:4])"
   ]
  },
  {
   "cell_type": "code",
   "execution_count": null,
   "metadata": {
    "collapsed": true
   },
   "outputs": [],
   "source": [
    "import numpy as np"
   ]
  },
  {
   "cell_type": "code",
   "execution_count": null,
   "metadata": {
    "collapsed": true
   },
   "outputs": [],
   "source": [
    "def sigmoid(x):\n",
    "    return 1./(1+np.exp(-x))"
   ]
  },
  {
   "cell_type": "code",
   "execution_count": null,
   "metadata": {
    "collapsed": true
   },
   "outputs": [],
   "source": [
    "def softmax(x):\n",
    "    x = x - np.max(x, axis=1, keepdims=True)\n",
    "    x = np.exp(x)\n",
    "    return x/np.sum(x, axis=1, keepdims=True)"
   ]
  },
  {
   "cell_type": "code",
   "execution_count": null,
   "metadata": {
    "collapsed": false
   },
   "outputs": [],
   "source": [
    "def test_mnist(x):\n",
    "    l1 = sigmoid(np.dot(x, w1) + b1)\n",
    "    return softmax(np.dot(l1, w2) + b2).argmax(axis=1)"
   ]
  },
  {
   "cell_type": "code",
   "execution_count": null,
   "metadata": {
    "collapsed": false
   },
   "outputs": [],
   "source": [
    "data = mnist_dataset.load_mnist()"
   ]
  },
  {
   "cell_type": "code",
   "execution_count": null,
   "metadata": {
    "collapsed": false
   },
   "outputs": [],
   "source": [
    "test_mnist(data.test.images[0:20])"
   ]
  },
  {
   "cell_type": "code",
   "execution_count": null,
   "metadata": {
    "collapsed": false
   },
   "outputs": [],
   "source": [
    "data.test.labels[0:20]"
   ]
  },
  {
   "cell_type": "code",
   "execution_count": null,
   "metadata": {
    "collapsed": true
   },
   "outputs": [],
   "source": []
  }
 ],
 "metadata": {
  "kernelspec": {
   "display_name": "Python 2",
   "language": "python",
   "name": "python2"
  },
  "language_info": {
   "codemirror_mode": {
    "name": "ipython",
    "version": 2
   },
   "file_extension": ".py",
   "mimetype": "text/x-python",
   "name": "python",
   "nbconvert_exporter": "python",
   "pygments_lexer": "ipython2",
   "version": "2.7.12"
  }
 },
 "nbformat": 4,
 "nbformat_minor": 0
}
