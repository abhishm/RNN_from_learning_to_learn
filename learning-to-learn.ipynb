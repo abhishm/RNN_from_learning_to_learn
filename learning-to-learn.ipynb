{
 "cells": [
  {
   "cell_type": "markdown",
   "metadata": {
    "collapsed": true
   },
   "source": [
    "Learning-to-learn is a way to train a neural network to learn. Instead of using \"AdaDelta\", \"ADAM\", or \"RMSProp\", give the responsiblity to a neural network to find a suitable optimizer for you. "
   ]
  },
  {
   "cell_type": "code",
   "execution_count": 4,
   "metadata": {
    "collapsed": true
   },
   "outputs": [],
   "source": [
    "from __future__ import absolute_import\n",
    "from __future__ import division\n",
    "from __future__ import print_function"
   ]
  },
  {
   "cell_type": "code",
   "execution_count": 1,
   "metadata": {
    "collapsed": true
   },
   "outputs": [],
   "source": [
    "import os\n",
    "\n",
    "import tensorflow as tf\n",
    "\n",
    "from tensorflow.contrib.learn.python.learn import monitored_session as ms\n",
    "\n",
    "import meta\n",
    "import util"
   ]
  },
  {
   "cell_type": "code",
   "execution_count": 3,
   "metadata": {
    "collapsed": true
   },
   "outputs": [],
   "source": [
    "save_path = \"meta_optimizer\"\n",
    "num_epoch = 2000\n",
    "log_period = 100\n",
    "evaluation_period = 1000\n",
    "evaluation_epochs = 20\n",
    "\n",
    "problem = \"simple\"\n",
    "num_steps = 100 # Number of optimization steps per epoch\n",
    "unroll_length = 20 # Meta-optimizer unroll length\n",
    "learning_rate = 0.01\n",
    "second_derivatives = False"
   ]
  },
  {
   "cell_type": "markdown",
   "metadata": {},
   "source": [
    "### Main Learning for a simple problem of optimizing a square function"
   ]
  },
  {
   "cell_type": "code",
   "execution_count": 9,
   "metadata": {
    "collapsed": false
   },
   "outputs": [],
   "source": [
    "num_unrolls = num_steps // unroll_length\n",
    "if os.path.isdir(save_path):\n",
    "    os.rmdir(save_path)\n",
    "os.makedirs(save_path)"
   ]
  },
  {
   "cell_type": "code",
   "execution_count": 10,
   "metadata": {
    "collapsed": true
   },
   "outputs": [],
   "source": [
    "def simple():\n",
    "  \"\"\"Simple problem: f(x) = x^2.\"\"\"\n",
    "\n",
    "  def build():\n",
    "    \"\"\"Builds loss graph.\"\"\"\n",
    "    x = tf.get_variable(\n",
    "        \"x\",\n",
    "        shape=[],\n",
    "        dtype=tf.float32,\n",
    "        initializer=tf.ones_initializer())\n",
    "    return tf.square(x, name=\"x_squared\")\n",
    "\n",
    "  return build"
   ]
  },
  {
   "cell_type": "code",
   "execution_count": 11,
   "metadata": {
    "collapsed": true
   },
   "outputs": [],
   "source": [
    "def simple_multi_optimizer(num_dims=2):\n",
    "  \"\"\"Multidimensional simple problem.\"\"\"\n",
    "\n",
    "  def get_coordinate(i):\n",
    "    return tf.get_variable(\"x_{}\".format(i),\n",
    "                           shape=[],\n",
    "                           dtype=tf.float32,\n",
    "                           initializer=tf.ones_initializer())\n",
    "\n",
    "  def build():\n",
    "    coordinates = [get_coordinate(i) for i in xrange(num_dims)]\n",
    "    x = tf.concat(0, [tf.expand_dims(c, 0) for c in coordinates])\n",
    "    return tf.reduce_sum(tf.square(x, name=\"x_squared\"))\n",
    "\n",
    "  return build\n"
   ]
  },
  {
   "cell_type": "markdown",
   "metadata": {},
   "source": [
    "To train an optimizer, we essentially need three things\n",
    "1. We should be able to give loss function.\n",
    "2. We should have a LSTM network as meta-optimizer.\n",
    "3. We should be able to tell our optimizer, what kind of network that we want for each variables. "
   ]
  },
  {
   "cell_type": "code",
   "execution_count": 12,
   "metadata": {
    "collapsed": true
   },
   "outputs": [],
   "source": [
    "problem_simple = simple()  # return a function \"build\" that gives square-loss when called \n",
    "net_config_simple = {\"cw\": {\n",
    "        \"net\": \"CoordinateWiseDeepLSTM\",\n",
    "        \"net_options\": {\"layers\": (), \"initializer\": \"zeros\"},\n",
    "        \"net_path\": None\n",
    "    }}\n",
    "net_assignments_simple = None"
   ]
  },
  {
   "cell_type": "code",
   "execution_count": 15,
   "metadata": {
    "collapsed": false
   },
   "outputs": [],
   "source": [
    "problem = simple_multi_optimizer()\n",
    "net_config_simple_multi_optimizer = {\n",
    "    \"cw\": {\n",
    "        \"net\": \"CoordinateWiseDeepLSTM\",\n",
    "        \"net_options\": {\"layers\": (), \"initializer\": \"zeros\"},\n",
    "        \"net_path\": None\n",
    "    },\n",
    "    \"adam\": {\n",
    "        \"net\": \"Adam\",\n",
    "        \"net_options\": {\"learning_rate\": 0.1}\n",
    "    }\n",
    "}\n",
    "net_assignments_simple_multi_optimizer = [(\"cw\", [\"x_0\"]), (\"adam\", [\"x_1\"])]"
   ]
  },
  {
   "cell_type": "code",
   "execution_count": null,
   "metadata": {
    "collapsed": true
   },
   "outputs": [],
   "source": []
  }
 ],
 "metadata": {
  "kernelspec": {
   "display_name": "Python 2",
   "language": "python",
   "name": "python2"
  },
  "language_info": {
   "codemirror_mode": {
    "name": "ipython",
    "version": 2
   },
   "file_extension": ".py",
   "mimetype": "text/x-python",
   "name": "python",
   "nbconvert_exporter": "python",
   "pygments_lexer": "ipython2",
   "version": "2.7.12"
  }
 },
 "nbformat": 4,
 "nbformat_minor": 0
}
